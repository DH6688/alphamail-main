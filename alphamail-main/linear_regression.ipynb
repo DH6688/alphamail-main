{
 "cells": [
  {
   "cell_type": "code",
   "execution_count": 1,
   "id": "fcd440f2",
   "metadata": {},
   "outputs": [],
   "source": [
    "import numpy as np\n",
    "from sklearn.linear_model import LinearRegression"
   ]
  },
  {
   "cell_type": "code",
   "execution_count": 2,
   "id": "d39453f0",
   "metadata": {},
   "outputs": [],
   "source": [
    "X = np.array([[0, 2, 0, 0], [1, 0, 0, 0], [0, 3, 0, 0], [2, 0, 0, 1], [1, 1, 0, 0], [5, 0, 0, 0], [0, 1, 3, 0], \n",
    "              [2, 0, 0, 0], [1, 0, 1, 0], [2, 0, 0, 1], [0, 4, 1, 0], [0, 0, 0, 2], [1, 1, 0, 0], [3, 0, 0, 1],\n",
    "              [0, 3, 2, 0], [0, 0, 0, 2], [2, 2, 2, 3], [1, 0, 0, 1], [1, 0, 0, 0], [1, 0, 0, 1], [0, 1, 0, 1], \n",
    "              [1, 0, 0, 1], [0, 3, 0, 0], [1, 0, 0, 2], [0, 0, 0, 0], [1, 0, 0, 1], [0, 0, 1, 0], [2, 0, 0, 0],\n",
    "              [3, 1, 1, 0], [0, 0, 2, 0], [0, 1, 2, 0], [4, 3, 2, 1], [2, 2, 2, 0], [2, 2, 0, 0], [3, 4, 2, 2],\n",
    "              [4, 2, 2, 0], [3, 2, 2, 0], [0, 2, 0, 0], [1, 1, 0, 1], [2, 0, 0, 0], [2, 1, 0, 0], [2, 1, 0, 2], \n",
    "              [2, 1, 1, 0], [1, 0, 0, 1], [1, 0, 0, 2], [1, 0, 0, 0], [3, 0, 0, 0], [3, 0, 0, 1], [1, 0, 0, 0], \n",
    "              [1, 0, 0, 0]])\n",
    "y = np.array([0, 1, 0, 1, 0, 1, 0, 1, 0, 1, 0, 1, 0, 1, 0, 1, 0, 1, 0, 1, 0, 1, 0, 1, 0, \n",
    "              1, 0, 0, 0, 0, 0, 0, 0, 0, 0, 0, 0, 0, 1, 1, 1, 1, 1, 1, 1, 1, 1, 1, 1, 1])\n",
    "reg = LinearRegression().fit(X, y)"
   ]
  },
  {
   "cell_type": "code",
   "execution_count": 3,
   "id": "32200253",
   "metadata": {},
   "outputs": [
    {
     "data": {
      "text/plain": [
       "array([ 0.08638951, -0.18662809, -0.21026642,  0.17486048])"
      ]
     },
     "execution_count": 3,
     "metadata": {},
     "output_type": "execute_result"
    }
   ],
   "source": [
    "reg.coef_"
   ]
  },
  {
   "cell_type": "code",
   "execution_count": 4,
   "id": "c85aa6e5",
   "metadata": {},
   "outputs": [
    {
     "data": {
      "text/plain": [
       "0.5599290777918959"
      ]
     },
     "execution_count": 4,
     "metadata": {},
     "output_type": "execute_result"
    }
   ],
   "source": [
    "reg.intercept_"
   ]
  },
  {
   "cell_type": "code",
   "execution_count": 5,
   "id": "9d7e4a45",
   "metadata": {},
   "outputs": [],
   "source": [
    "import pickle\n",
    "filename = \"linear_regression.pickle\""
   ]
  },
  {
   "cell_type": "code",
   "execution_count": 6,
   "id": "be42e46c",
   "metadata": {},
   "outputs": [],
   "source": [
    "pickle.dump(reg, open(filename, 'wb'))"
   ]
  }
 ],
 "metadata": {
  "kernelspec": {
   "display_name": "Python 3",
   "language": "python",
   "name": "python3"
  },
  "language_info": {
   "codemirror_mode": {
    "name": "ipython",
    "version": 3
   },
   "file_extension": ".py",
   "mimetype": "text/x-python",
   "name": "python",
   "nbconvert_exporter": "python",
   "pygments_lexer": "ipython3",
   "version": "3.8.8"
  }
 },
 "nbformat": 4,
 "nbformat_minor": 5
}
